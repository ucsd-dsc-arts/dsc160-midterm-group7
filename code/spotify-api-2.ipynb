{
 "cells": [
  {
   "cell_type": "code",
   "execution_count": 83,
   "metadata": {},
   "outputs": [],
   "source": [
    "import spotipy\n",
    "from spotipy.oauth2 import SpotifyClientCredentials\n",
    "import api\n",
    "\n",
    "import importlib\n",
    "importlib.reload(api)\n",
    "import urllib.request\n",
    "import librosa\n",
    "import os\n",
    "\n",
    "import pandas as pd\n",
    "\n",
    "cid = '5c3d73b1e0734983aec11219f14fef4f'\n",
    "secret = 'f23dddb03f9a4097887e4a251758f86d'\n",
    "client_credentials_manager = SpotifyClientCredentials(client_id=cid, client_secret=secret)\n",
    "sp = spotipy.Spotify(client_credentials_manager = client_credentials_manager)"
   ]
  },
  {
   "cell_type": "code",
   "execution_count": 6,
   "metadata": {},
   "outputs": [],
   "source": [
    "bay_area = sp.search(q = 'genre:Bay%area%hip%hop', type='artist', limit = 50)\n",
    "\n",
    "chinese = sp.search(q = 'genre:chinese%hip%hop', type='artist', limit = 50)\n"
   ]
  },
  {
   "cell_type": "code",
   "execution_count": 7,
   "metadata": {},
   "outputs": [],
   "source": [
    "bay_area_artists = []\n",
    "for i in bay_area['artists']['items']:\n",
    "    bay_area_artists.append(i)\n",
    "    \n",
    "chinese_artists = []\n",
    "for i in chinese['artists']['items']:\n",
    "    chinese_artists.append(i)\n",
    "    "
   ]
  },
  {
   "cell_type": "code",
   "execution_count": 77,
   "metadata": {},
   "outputs": [
    {
     "name": "stdout",
     "output_type": "stream",
     "text": [
      "Name  Lil Los\n",
      "Popularity: 33\n",
      "Genres: ['bay area hip hop']\n",
      "\n",
      "\n",
      "Name  Casper Locs\n",
      "Popularity: 31\n",
      "Genres: ['bay area hip hop']\n",
      "\n",
      "\n",
      "Name  Big Rome\n",
      "Popularity: 31\n",
      "Genres: ['bay area hip hop']\n",
      "\n",
      "\n",
      "Name  G-Stack\n",
      "Popularity: 32\n",
      "Genres: ['bay area hip hop']\n",
      "\n",
      "\n",
      "Name  Conspiracy\n",
      "Popularity: 30\n",
      "Genres: ['bay area hip hop']\n",
      "\n",
      "\n"
     ]
    }
   ],
   "source": [
    "for artist in bay_area_artists[10:15]:\n",
    "    api.show_artist(artist)\n",
    "    print('\\n')"
   ]
  },
  {
   "cell_type": "code",
   "execution_count": 76,
   "metadata": {},
   "outputs": [
    {
     "name": "stdout",
     "output_type": "stream",
     "text": [
      "Name  Higher Brothers\n",
      "Popularity: 67\n",
      "Genres: ['chinese hip hop']\n",
      "\n",
      "\n",
      "Name  Kris Wu\n",
      "Popularity: 59\n",
      "Genres: ['chinese hip hop', 'chinese idol pop']\n",
      "\n",
      "\n",
      "Name  Jony J\n",
      "Popularity: 48\n",
      "Genres: ['chinese hip hop']\n",
      "\n",
      "\n",
      "Name  VaVa\n",
      "Popularity: 46\n",
      "Genres: ['chinese hip hop']\n",
      "\n",
      "\n",
      "Name  ØZI\n",
      "Popularity: 54\n",
      "Genres: ['chinese hip hop', 'taiwan hip hop']\n",
      "\n",
      "\n"
     ]
    }
   ],
   "source": [
    "for artist in chinese_artists[:5]:\n",
    "    api.show_artist(artist)\n",
    "    print('\\n')"
   ]
  },
  {
   "cell_type": "code",
   "execution_count": 71,
   "metadata": {},
   "outputs": [],
   "source": [
    "artists_top_tracks = {}\n",
    "artists_top_tracks['bay_area'] = []\n",
    "artists_top_tracks['chinese'] = []\n",
    "\n"
   ]
  },
  {
   "cell_type": "code",
   "execution_count": null,
   "metadata": {},
   "outputs": [],
   "source": [
    "## Getting bay area artist tracks"
   ]
  },
  {
   "cell_type": "code",
   "execution_count": 72,
   "metadata": {},
   "outputs": [],
   "source": [
    "for artist in bay_area_artists[:1]:\n",
    "  \n",
    "    artist_album_dic = {}\n",
    "    artist_album_dic[artist['name']] = []\n",
    "    \n",
    "    ##gets top tracks for artist \n",
    "    \n",
    "    artist_top_dic = {}\n",
    "    artist_top_dic['tracks'] = []\n",
    "    \n",
    "    top_tracks = api.top_songs(artist)\n",
    "    \n",
    "    for i in top_tracks:\n",
    "        artist_top_dic['name'] = artist['name']\n",
    "        artist_top_dic['tracks'].append(i)\n",
    "    \n",
    "    artists_top_tracks['bay_area'].append(artist_top_dic)\n",
    "    \n"
   ]
  },
  {
   "cell_type": "code",
   "execution_count": null,
   "metadata": {},
   "outputs": [],
   "source": [
    "## Getting chinese artist tracks"
   ]
  },
  {
   "cell_type": "code",
   "execution_count": 73,
   "metadata": {},
   "outputs": [],
   "source": [
    "##gets all albums\n",
    "for artist in chinese_artists[:1]:\n",
    "  \n",
    "    artist_album_dic = {}\n",
    "    artist_album_dic[artist['name']] = []\n",
    "    \n",
    "    ##gets top tracks for artist \n",
    "    \n",
    "    artist_top_dic = {}\n",
    "    artist_top_dic['tracks'] = []\n",
    "    \n",
    "    top_tracks = api.top_songs(artist)\n",
    "    \n",
    "    for i in top_tracks:\n",
    "        artist_top_dic['name'] = artist['name']\n",
    "        artist_top_dic['tracks'].append(i)\n",
    "    \n",
    "    artists_top_tracks['chinese'].append(artist_top_dic)\n",
    "    \n",
    "\n"
   ]
  },
  {
   "cell_type": "code",
   "execution_count": null,
   "metadata": {},
   "outputs": [],
   "source": [
    "## download songs for bay area artists "
   ]
  },
  {
   "cell_type": "code",
   "execution_count": 28,
   "metadata": {},
   "outputs": [
    {
     "data": {
      "text/plain": [
       "189459"
      ]
     },
     "execution_count": 28,
     "metadata": {},
     "output_type": "execute_result"
    }
   ],
   "source": [
    "for i in artists_top_tracks['bay_area']:\n",
    "    directory =  '../test-music-data'\n",
    "    cat = 'bay_area'\n",
    "    artist_name = i['name']\n",
    "    top_tracks = i['tracks']\n",
    "    for i in top_tracks:\n",
    "            api.download_track(i,directory,\\\n",
    "                               cat, artist_name)\n"
   ]
  },
  {
   "cell_type": "code",
   "execution_count": 75,
   "metadata": {},
   "outputs": [],
   "source": [
    "## download songs for chinese artists "
   ]
  },
  {
   "cell_type": "code",
   "execution_count": 74,
   "metadata": {},
   "outputs": [
    {
     "name": "stdout",
     "output_type": "stream",
     "text": [
      "No Preview URL found for track - Made In China\n"
     ]
    }
   ],
   "source": [
    "for i in artists_top_tracks['chinese']:\n",
    "    directory =  '../test-music-data'\n",
    "    cat = 'chinese'\n",
    "    artist_name = i['name']\n",
    "    top_tracks = i['tracks']\n",
    "    for i in top_tracks:\n",
    "            api.download_track(i,directory,\\\n",
    "                               cat, artist_name)"
   ]
  },
  {
   "cell_type": "code",
   "execution_count": 89,
   "metadata": {},
   "outputs": [
    {
     "data": {
      "text/html": [
       "<div>\n",
       "<style scoped>\n",
       "    .dataframe tbody tr th:only-of-type {\n",
       "        vertical-align: middle;\n",
       "    }\n",
       "\n",
       "    .dataframe tbody tr th {\n",
       "        vertical-align: top;\n",
       "    }\n",
       "\n",
       "    .dataframe thead th {\n",
       "        text-align: right;\n",
       "    }\n",
       "</style>\n",
       "<table border=\"1\" class=\"dataframe\">\n",
       "  <thead>\n",
       "    <tr style=\"text-align: right;\">\n",
       "      <th></th>\n",
       "      <th>type</th>\n",
       "      <th>name</th>\n",
       "      <th>track_name</th>\n",
       "      <th>uri</th>\n",
       "    </tr>\n",
       "  </thead>\n",
       "  <tbody>\n",
       "    <tr>\n",
       "      <th>0</th>\n",
       "      <td>bay_area</td>\n",
       "      <td>Caleborate</td>\n",
       "      <td>4 Willem</td>\n",
       "      <td>spotify:track:4nWPmn1tqegITYKdZOJpKv</td>\n",
       "    </tr>\n",
       "    <tr>\n",
       "      <th>1</th>\n",
       "      <td>bay_area</td>\n",
       "      <td>Caleborate</td>\n",
       "      <td>Caught Up</td>\n",
       "      <td>spotify:track:4jvQ3EvoTkgeXiqTjLlhPv</td>\n",
       "    </tr>\n",
       "    <tr>\n",
       "      <th>2</th>\n",
       "      <td>bay_area</td>\n",
       "      <td>Caleborate</td>\n",
       "      <td>Clicquot Shower - A COLORS SHOW</td>\n",
       "      <td>spotify:track:3iBBYvj3I5DNSuUgFjushj</td>\n",
       "    </tr>\n",
       "    <tr>\n",
       "      <th>3</th>\n",
       "      <td>bay_area</td>\n",
       "      <td>Caleborate</td>\n",
       "      <td>El Portal</td>\n",
       "      <td>spotify:track:7fWMxQKbY4FxofuYz1ZMDx</td>\n",
       "    </tr>\n",
       "    <tr>\n",
       "      <th>4</th>\n",
       "      <td>bay_area</td>\n",
       "      <td>Caleborate</td>\n",
       "      <td>Pull Up</td>\n",
       "      <td>spotify:track:7jNKltvrrClDaaG81flM1w</td>\n",
       "    </tr>\n",
       "    <tr>\n",
       "      <th>5</th>\n",
       "      <td>bay_area</td>\n",
       "      <td>Caleborate</td>\n",
       "      <td>Untitled (Hit Record)</td>\n",
       "      <td>spotify:track:3mM3yqzLY8k5kpVawTqSsz</td>\n",
       "    </tr>\n",
       "    <tr>\n",
       "      <th>6</th>\n",
       "      <td>bay_area</td>\n",
       "      <td>Caleborate</td>\n",
       "      <td>home</td>\n",
       "      <td>spotify:track:7kaIJuX8fxDgTFumxFmCWi</td>\n",
       "    </tr>\n",
       "    <tr>\n",
       "      <th>7</th>\n",
       "      <td>bay_area</td>\n",
       "      <td>Caleborate</td>\n",
       "      <td>These Days</td>\n",
       "      <td>spotify:track:1c0IND0G0SlApPtxfbhlEZ</td>\n",
       "    </tr>\n",
       "    <tr>\n",
       "      <th>8</th>\n",
       "      <td>bay_area</td>\n",
       "      <td>Caleborate</td>\n",
       "      <td>Away From</td>\n",
       "      <td>spotify:track:3SVeFVQS1H0XRLjkEccPKC</td>\n",
       "    </tr>\n",
       "    <tr>\n",
       "      <th>9</th>\n",
       "      <td>bay_area</td>\n",
       "      <td>Caleborate</td>\n",
       "      <td>Bankrobber</td>\n",
       "      <td>spotify:track:3SqVtIMesHETZDm3UU2Pb4</td>\n",
       "    </tr>\n",
       "    <tr>\n",
       "      <th>10</th>\n",
       "      <td>chinese</td>\n",
       "      <td>Higher Brothers</td>\n",
       "      <td>Midsummer Madness</td>\n",
       "      <td>spotify:track:6TodWdTSDfzwgYynTZSvJn</td>\n",
       "    </tr>\n",
       "    <tr>\n",
       "      <th>11</th>\n",
       "      <td>chinese</td>\n",
       "      <td>Higher Brothers</td>\n",
       "      <td>Tequila Sunrise (feat. AUGUST 08 &amp; GoldLink)</td>\n",
       "      <td>spotify:track:121bJml1xjrfnZuk2yPsLG</td>\n",
       "    </tr>\n",
       "    <tr>\n",
       "      <th>12</th>\n",
       "      <td>chinese</td>\n",
       "      <td>Higher Brothers</td>\n",
       "      <td>Lover Boy 88</td>\n",
       "      <td>spotify:track:2vRDFgdJiILUdDOLL8hLH3</td>\n",
       "    </tr>\n",
       "    <tr>\n",
       "      <th>13</th>\n",
       "      <td>chinese</td>\n",
       "      <td>Higher Brothers</td>\n",
       "      <td>Made In China</td>\n",
       "      <td>spotify:track:1qowUCis8gYY9KOMuy8fCi</td>\n",
       "    </tr>\n",
       "    <tr>\n",
       "      <th>14</th>\n",
       "      <td>chinese</td>\n",
       "      <td>Higher Brothers</td>\n",
       "      <td>Nomadic (feat. Joji)</td>\n",
       "      <td>spotify:track:4fq9ldVbZ57iYFGrKpDLj0</td>\n",
       "    </tr>\n",
       "    <tr>\n",
       "      <th>15</th>\n",
       "      <td>chinese</td>\n",
       "      <td>Higher Brothers</td>\n",
       "      <td>R&amp;B All Night</td>\n",
       "      <td>spotify:track:6MrVXeEMf0MULWdclDk4sI</td>\n",
       "    </tr>\n",
       "    <tr>\n",
       "      <th>16</th>\n",
       "      <td>chinese</td>\n",
       "      <td>Higher Brothers</td>\n",
       "      <td>2 The Face</td>\n",
       "      <td>spotify:track:01ibNvCrbTdwOcqIcroORv</td>\n",
       "    </tr>\n",
       "    <tr>\n",
       "      <th>17</th>\n",
       "      <td>chinese</td>\n",
       "      <td>Higher Brothers</td>\n",
       "      <td>One Punch Man (feat. Ski Mask The Slump God &amp; ...</td>\n",
       "      <td>spotify:track:5XHcYoIcFY7GgV6OHUB00Q</td>\n",
       "    </tr>\n",
       "    <tr>\n",
       "      <th>18</th>\n",
       "      <td>chinese</td>\n",
       "      <td>Higher Brothers</td>\n",
       "      <td>Mr. Bentley</td>\n",
       "      <td>spotify:track:603FrR2LgWS3X4osiN12XO</td>\n",
       "    </tr>\n",
       "    <tr>\n",
       "      <th>19</th>\n",
       "      <td>chinese</td>\n",
       "      <td>Higher Brothers</td>\n",
       "      <td>No More (feat. NIKI)</td>\n",
       "      <td>spotify:track:7lxcmd6V6iFDgtw9urFsGB</td>\n",
       "    </tr>\n",
       "  </tbody>\n",
       "</table>\n",
       "</div>"
      ],
      "text/plain": [
       "        type             name  \\\n",
       "0   bay_area       Caleborate   \n",
       "1   bay_area       Caleborate   \n",
       "2   bay_area       Caleborate   \n",
       "3   bay_area       Caleborate   \n",
       "4   bay_area       Caleborate   \n",
       "5   bay_area       Caleborate   \n",
       "6   bay_area       Caleborate   \n",
       "7   bay_area       Caleborate   \n",
       "8   bay_area       Caleborate   \n",
       "9   bay_area       Caleborate   \n",
       "10   chinese  Higher Brothers   \n",
       "11   chinese  Higher Brothers   \n",
       "12   chinese  Higher Brothers   \n",
       "13   chinese  Higher Brothers   \n",
       "14   chinese  Higher Brothers   \n",
       "15   chinese  Higher Brothers   \n",
       "16   chinese  Higher Brothers   \n",
       "17   chinese  Higher Brothers   \n",
       "18   chinese  Higher Brothers   \n",
       "19   chinese  Higher Brothers   \n",
       "\n",
       "                                           track_name  \\\n",
       "0                                            4 Willem   \n",
       "1                                           Caught Up   \n",
       "2                     Clicquot Shower - A COLORS SHOW   \n",
       "3                                           El Portal   \n",
       "4                                             Pull Up   \n",
       "5                               Untitled (Hit Record)   \n",
       "6                                                home   \n",
       "7                                          These Days   \n",
       "8                                           Away From   \n",
       "9                                          Bankrobber   \n",
       "10                                  Midsummer Madness   \n",
       "11       Tequila Sunrise (feat. AUGUST 08 & GoldLink)   \n",
       "12                                       Lover Boy 88   \n",
       "13                                      Made In China   \n",
       "14                               Nomadic (feat. Joji)   \n",
       "15                                      R&B All Night   \n",
       "16                                         2 The Face   \n",
       "17  One Punch Man (feat. Ski Mask The Slump God & ...   \n",
       "18                                        Mr. Bentley   \n",
       "19                               No More (feat. NIKI)   \n",
       "\n",
       "                                     uri  \n",
       "0   spotify:track:4nWPmn1tqegITYKdZOJpKv  \n",
       "1   spotify:track:4jvQ3EvoTkgeXiqTjLlhPv  \n",
       "2   spotify:track:3iBBYvj3I5DNSuUgFjushj  \n",
       "3   spotify:track:7fWMxQKbY4FxofuYz1ZMDx  \n",
       "4   spotify:track:7jNKltvrrClDaaG81flM1w  \n",
       "5   spotify:track:3mM3yqzLY8k5kpVawTqSsz  \n",
       "6   spotify:track:7kaIJuX8fxDgTFumxFmCWi  \n",
       "7   spotify:track:1c0IND0G0SlApPtxfbhlEZ  \n",
       "8   spotify:track:3SVeFVQS1H0XRLjkEccPKC  \n",
       "9   spotify:track:3SqVtIMesHETZDm3UU2Pb4  \n",
       "10  spotify:track:6TodWdTSDfzwgYynTZSvJn  \n",
       "11  spotify:track:121bJml1xjrfnZuk2yPsLG  \n",
       "12  spotify:track:2vRDFgdJiILUdDOLL8hLH3  \n",
       "13  spotify:track:1qowUCis8gYY9KOMuy8fCi  \n",
       "14  spotify:track:4fq9ldVbZ57iYFGrKpDLj0  \n",
       "15  spotify:track:6MrVXeEMf0MULWdclDk4sI  \n",
       "16  spotify:track:01ibNvCrbTdwOcqIcroORv  \n",
       "17  spotify:track:5XHcYoIcFY7GgV6OHUB00Q  \n",
       "18  spotify:track:603FrR2LgWS3X4osiN12XO  \n",
       "19  spotify:track:7lxcmd6V6iFDgtw9urFsGB  "
      ]
     },
     "execution_count": 89,
     "metadata": {},
     "output_type": "execute_result"
    }
   ],
   "source": [
    "table_dic = []\n",
    "\n",
    "for loc in artists_top_tracks:\n",
    "    for artist in artists_top_tracks[loc]:\n",
    "        for tracks in artist['tracks']:\n",
    "            dic = {}\n",
    "            dic['type'] = loc\n",
    "            dic['name'] = artist['name']\n",
    "            dic['track_name'] = tracks['name']\n",
    "            dic['uri'] = tracks['uri']\n",
    "            table_dic.append(dic)\n",
    "    \n",
    "\n",
    "pd.DataFrame(table_dic)"
   ]
  },
  {
   "cell_type": "code",
   "execution_count": 90,
   "metadata": {},
   "outputs": [
    {
     "data": {
      "text/plain": [
       "[{'danceability': 0.792,\n",
       "  'energy': 0.426,\n",
       "  'key': 2,\n",
       "  'loudness': -12.432,\n",
       "  'mode': 0,\n",
       "  'speechiness': 0.324,\n",
       "  'acousticness': 0.74,\n",
       "  'instrumentalness': 1.01e-06,\n",
       "  'liveness': 0.0883,\n",
       "  'valence': 0.693,\n",
       "  'tempo': 82.561,\n",
       "  'type': 'audio_features',\n",
       "  'id': '6IkTlI62akMNoUxfxHNRZH',\n",
       "  'uri': 'spotify:track:6IkTlI62akMNoUxfxHNRZH',\n",
       "  'track_href': 'https://api.spotify.com/v1/tracks/6IkTlI62akMNoUxfxHNRZH',\n",
       "  'analysis_url': 'https://api.spotify.com/v1/audio-analysis/6IkTlI62akMNoUxfxHNRZH',\n",
       "  'duration_ms': 189460,\n",
       "  'time_signature': 4}]"
      ]
     },
     "execution_count": 90,
     "metadata": {},
     "output_type": "execute_result"
    }
   ],
   "source": [
    "features = sp.audio_features(all_tracks[0]['uri'])\n",
    "features"
   ]
  },
  {
   "cell_type": "code",
   "execution_count": 47,
   "metadata": {},
   "outputs": [],
   "source": [
    "playlist_id = 'spotify:user:spotifycharts:playlist:37i9dQZF1DX9sQDbOMReFI'\n",
    "results = sp.playlist(playlist_id)"
   ]
  },
  {
   "cell_type": "code",
   "execution_count": 48,
   "metadata": {},
   "outputs": [
    {
     "data": {
      "text/plain": [
       "'Nuthin\\' But A \"G\" Thang'"
      ]
     },
     "execution_count": 48,
     "metadata": {},
     "output_type": "execute_result"
    }
   ],
   "source": [
    "results['tracks']['items'][0]['track']['name']"
   ]
  },
  {
   "cell_type": "code",
   "execution_count": null,
   "metadata": {},
   "outputs": [],
   "source": []
  }
 ],
 "metadata": {
  "kernelspec": {
   "display_name": "Python 3",
   "language": "python",
   "name": "python3"
  },
  "language_info": {
   "codemirror_mode": {
    "name": "ipython",
    "version": 3
   },
   "file_extension": ".py",
   "mimetype": "text/x-python",
   "name": "python",
   "nbconvert_exporter": "python",
   "pygments_lexer": "ipython3",
   "version": "3.7.3"
  }
 },
 "nbformat": 4,
 "nbformat_minor": 2
}
