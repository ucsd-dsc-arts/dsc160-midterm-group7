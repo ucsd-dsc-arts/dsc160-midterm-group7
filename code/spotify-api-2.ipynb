{
 "cells": [
  {
   "cell_type": "code",
   "execution_count": 1,
   "metadata": {},
   "outputs": [],
   "source": [
    "import spotipy\n",
    "from spotipy.oauth2 import SpotifyClientCredentials\n",
    "import api\n",
    "\n",
    "import importlib\n",
    "importlib.reload(api)\n",
    "import urllib.request\n",
    "import librosa\n",
    "import os\n",
    "\n",
    "import pandas as pd\n",
    "\n",
    "import json\n",
    "\n",
    "cid = '5c3d73b1e0734983aec11219f14fef4f'\n",
    "secret = 'f23dddb03f9a4097887e4a251758f86d'\n",
    "client_credentials_manager = SpotifyClientCredentials(client_id=cid, client_secret=secret)\n",
    "sp = spotipy.Spotify(client_credentials_manager = client_credentials_manager)"
   ]
  },
  {
   "cell_type": "code",
   "execution_count": 13,
   "metadata": {},
   "outputs": [],
   "source": [
    "bay_area_artists = []\n",
    "\n",
    "chinese_artists = []\n",
    "\n",
    "\n",
    "for i in range(50,1000,50):\n",
    "    bay_area = sp.search(q = 'genre:Bay%area%hip%hop', type='artist', limit = 50, offset = i)\n",
    "\n",
    "    chinese = sp.search(q = 'genre:chinese%hip%hop', type='artist', limit = 50,  offset = i)\n",
    "    for i in bay_area['artists']['items']:\n",
    "        bay_area_artists.append(i)\n",
    "    \n",
    "    for i in chinese['artists']['items']:\n",
    "        chinese_artists.append(i)\n"
   ]
  },
  {
   "cell_type": "code",
   "execution_count": 12,
   "metadata": {},
   "outputs": [
    {
     "data": {
      "text/plain": [
       "116"
      ]
     },
     "execution_count": 12,
     "metadata": {},
     "output_type": "execute_result"
    }
   ],
   "source": [
    "len(chinese_artists)"
   ]
  },
  {
   "cell_type": "code",
   "execution_count": 77,
   "metadata": {},
   "outputs": [
    {
     "name": "stdout",
     "output_type": "stream",
     "text": [
      "Name  Lil Los\n",
      "Popularity: 33\n",
      "Genres: ['bay area hip hop']\n",
      "\n",
      "\n",
      "Name  Casper Locs\n",
      "Popularity: 31\n",
      "Genres: ['bay area hip hop']\n",
      "\n",
      "\n",
      "Name  Big Rome\n",
      "Popularity: 31\n",
      "Genres: ['bay area hip hop']\n",
      "\n",
      "\n",
      "Name  G-Stack\n",
      "Popularity: 32\n",
      "Genres: ['bay area hip hop']\n",
      "\n",
      "\n",
      "Name  Conspiracy\n",
      "Popularity: 30\n",
      "Genres: ['bay area hip hop']\n",
      "\n",
      "\n"
     ]
    }
   ],
   "source": [
    "for artist in bay_area_artists[10:15]:\n",
    "    api.show_artist(artist)\n",
    "    print('\\n')"
   ]
  },
  {
   "cell_type": "code",
   "execution_count": 76,
   "metadata": {},
   "outputs": [
    {
     "name": "stdout",
     "output_type": "stream",
     "text": [
      "Name  Higher Brothers\n",
      "Popularity: 67\n",
      "Genres: ['chinese hip hop']\n",
      "\n",
      "\n",
      "Name  Kris Wu\n",
      "Popularity: 59\n",
      "Genres: ['chinese hip hop', 'chinese idol pop']\n",
      "\n",
      "\n",
      "Name  Jony J\n",
      "Popularity: 48\n",
      "Genres: ['chinese hip hop']\n",
      "\n",
      "\n",
      "Name  VaVa\n",
      "Popularity: 46\n",
      "Genres: ['chinese hip hop']\n",
      "\n",
      "\n",
      "Name  ØZI\n",
      "Popularity: 54\n",
      "Genres: ['chinese hip hop', 'taiwan hip hop']\n",
      "\n",
      "\n"
     ]
    }
   ],
   "source": [
    "for artist in chinese_artists[:5]:\n",
    "    api.show_artist(artist)\n",
    "    print('\\n')"
   ]
  },
  {
   "cell_type": "code",
   "execution_count": 14,
   "metadata": {},
   "outputs": [],
   "source": [
    "artists_top_tracks = {}\n",
    "artists_top_tracks['bay_area'] = []\n",
    "artists_top_tracks['chinese'] = []\n",
    "\n"
   ]
  },
  {
   "cell_type": "code",
   "execution_count": null,
   "metadata": {},
   "outputs": [],
   "source": [
    "## Getting bay area artist tracks"
   ]
  },
  {
   "cell_type": "code",
   "execution_count": 15,
   "metadata": {},
   "outputs": [],
   "source": [
    "for artist in bay_area_artists:\n",
    "  \n",
    "    artist_album_dic = {}\n",
    "    artist_album_dic[artist['name']] = []\n",
    "    \n",
    "    ##gets top tracks for artist \n",
    "    \n",
    "    artist_top_dic = {}\n",
    "    artist_top_dic['tracks'] = []\n",
    "    \n",
    "    top_tracks = api.top_songs(artist)\n",
    "    \n",
    "    for i in top_tracks:\n",
    "        artist_top_dic['name'] = artist['name']\n",
    "        artist_top_dic['tracks'].append(i)\n",
    "    \n",
    "    artists_top_tracks['bay_area'].append(artist_top_dic)\n",
    "    \n"
   ]
  },
  {
   "cell_type": "code",
   "execution_count": null,
   "metadata": {},
   "outputs": [],
   "source": [
    "## Getting chinese artist tracks"
   ]
  },
  {
   "cell_type": "code",
   "execution_count": 16,
   "metadata": {},
   "outputs": [],
   "source": [
    "##gets all albums\n",
    "for artist in chinese_artists:\n",
    "  \n",
    "    artist_album_dic = {}\n",
    "    artist_album_dic[artist['name']] = []\n",
    "    \n",
    "    ##gets top tracks for artist \n",
    "    \n",
    "    artist_top_dic = {}\n",
    "    artist_top_dic['tracks'] = []\n",
    "    \n",
    "    top_tracks = api.top_songs(artist)\n",
    "    \n",
    "    for i in top_tracks:\n",
    "        artist_top_dic['name'] = artist['name']\n",
    "        artist_top_dic['tracks'].append(i)\n",
    "    \n",
    "    artists_top_tracks['chinese'].append(artist_top_dic)\n",
    "    \n",
    "\n"
   ]
  },
  {
   "cell_type": "code",
   "execution_count": null,
   "metadata": {},
   "outputs": [],
   "source": [
    "## download songs for bay area artists "
   ]
  },
  {
   "cell_type": "code",
   "execution_count": 28,
   "metadata": {},
   "outputs": [
    {
     "data": {
      "text/plain": [
       "189459"
      ]
     },
     "execution_count": 28,
     "metadata": {},
     "output_type": "execute_result"
    }
   ],
   "source": [
    "for i in artists_top_tracks['bay_area']:\n",
    "    directory =  '../test-music-data'\n",
    "    cat = 'bay_area'\n",
    "    artist_name = i['name']\n",
    "    top_tracks = i['tracks']\n",
    "    for i in top_tracks:\n",
    "            api.download_track(i,directory,\\\n",
    "                               cat, artist_name)\n"
   ]
  },
  {
   "cell_type": "code",
   "execution_count": 75,
   "metadata": {},
   "outputs": [],
   "source": [
    "## download songs for chinese artists "
   ]
  },
  {
   "cell_type": "code",
   "execution_count": 74,
   "metadata": {},
   "outputs": [
    {
     "name": "stdout",
     "output_type": "stream",
     "text": [
      "No Preview URL found for track - Made In China\n"
     ]
    }
   ],
   "source": [
    "for i in artists_top_tracks['chinese']:\n",
    "    directory =  '../test-music-data'\n",
    "    cat = 'chinese'\n",
    "    artist_name = i['name']\n",
    "    top_tracks = i['tracks']\n",
    "    for i in top_tracks:\n",
    "            api.download_track(i,directory,\\\n",
    "                               cat, artist_name)"
   ]
  },
  {
   "cell_type": "code",
   "execution_count": 17,
   "metadata": {},
   "outputs": [],
   "source": [
    "feat = sp.audio_features('spotify:track:4nWPmn1tqegITYKdZOJpKv')\n",
    "\n",
    "keys_list = list(feat[0].keys())[:11]\n",
    "keys_list.append('duration_ms')\n",
    "keys_list.append('time_signature')\n"
   ]
  },
  {
   "cell_type": "code",
   "execution_count": 31,
   "metadata": {},
   "outputs": [],
   "source": [
    "table_dic = []\n",
    "\n",
    "for loc in artists_top_tracks:\n",
    "    for artist in artists_top_tracks[loc]:\n",
    "        for tracks in artist['tracks']:\n",
    "            dic = {}\n",
    "            dic['type'] = loc\n",
    "            dic['name'] = artist['name']\n",
    "            dic['track_name'] = tracks['name']\n",
    "            dic['uri'] = tracks['uri']\n",
    "            dic['release_date'] = tracks['album']['release_date']\n",
    "            feat = sp.audio_features(tracks['uri'])[0]\n",
    "            for key in keys_list:\n",
    "                dic[key] = feat[key]\n",
    "            table_dic.append(dic)\n",
    "    \n",
    "\n",
    "df = pd.DataFrame(table_dic)"
   ]
  },
  {
   "cell_type": "code",
   "execution_count": 39,
   "metadata": {},
   "outputs": [],
   "source": [
    "df['year']  = df['release_date'].apply(lambda x: x.split('-')[0][2:])"
   ]
  },
  {
   "cell_type": "code",
   "execution_count": 41,
   "metadata": {},
   "outputs": [
    {
     "data": {
      "text/plain": [
       "<matplotlib.axes._subplots.AxesSubplot at 0x7fbc6038a6a0>"
      ]
     },
     "execution_count": 41,
     "metadata": {},
     "output_type": "execute_result"
    },
    {
     "data": {
      "image/png": "[encoded data removed]",
      "text/plain": [
       "<Figure size 432x288 with 1 Axes>"
      ]
     },
     "metadata": {
      "needs_background": "light"
     },
     "output_type": "display_data"
    }
   ],
   "source": [
    "%matplotlib inline  \n",
    "df['year'].hist()"
   ]
  },
  {
   "cell_type": "code",
   "execution_count": 35,
   "metadata": {},
   "outputs": [
    {
     "name": "stdout",
     "output_type": "stream",
     "text": [
      "(1331, 19)\n"
     ]
    },
    {
     "data": {
      "text/html": [
       "<div>\n",
       "<style scoped>\n",
       "    .dataframe tbody tr th:only-of-type {\n",
       "        vertical-align: middle;\n",
       "    }\n",
       "\n",
       "    .dataframe tbody tr th {\n",
       "        vertical-align: top;\n",
       "    }\n",
       "\n",
       "    .dataframe thead th {\n",
       "        text-align: right;\n",
       "    }\n",
       "</style>\n",
       "<table border=\"1\" class=\"dataframe\">\n",
       "  <thead>\n",
       "    <tr style=\"text-align: right;\">\n",
       "      <th></th>\n",
       "      <th>type</th>\n",
       "      <th>name</th>\n",
       "      <th>track_name</th>\n",
       "      <th>uri</th>\n",
       "      <th>release_date</th>\n",
       "      <th>danceability</th>\n",
       "      <th>energy</th>\n",
       "      <th>key</th>\n",
       "      <th>loudness</th>\n",
       "      <th>mode</th>\n",
       "      <th>speechiness</th>\n",
       "      <th>acousticness</th>\n",
       "      <th>instrumentalness</th>\n",
       "      <th>liveness</th>\n",
       "      <th>valence</th>\n",
       "      <th>tempo</th>\n",
       "      <th>duration_ms</th>\n",
       "      <th>time_signature</th>\n",
       "      <th>year</th>\n",
       "    </tr>\n",
       "  </thead>\n",
       "  <tbody>\n",
       "    <tr>\n",
       "      <th>0</th>\n",
       "      <td>bay_area</td>\n",
       "      <td>Brother Ig</td>\n",
       "      <td>Momma Don't Cry</td>\n",
       "      <td>spotify:track:6twPZrq5K0SzZ58BPq3Xq1</td>\n",
       "      <td>2006-01-01</td>\n",
       "      <td>0.597</td>\n",
       "      <td>0.667</td>\n",
       "      <td>9</td>\n",
       "      <td>-6.367</td>\n",
       "      <td>0</td>\n",
       "      <td>0.139</td>\n",
       "      <td>0.0556</td>\n",
       "      <td>0.000000</td>\n",
       "      <td>0.0901</td>\n",
       "      <td>0.330</td>\n",
       "      <td>69.914</td>\n",
       "      <td>320360</td>\n",
       "      <td>4</td>\n",
       "      <td>2006</td>\n",
       "    </tr>\n",
       "    <tr>\n",
       "      <th>1</th>\n",
       "      <td>bay_area</td>\n",
       "      <td>Brother Ig</td>\n",
       "      <td>In the Rain</td>\n",
       "      <td>spotify:track:4XNmJhkDLlIicfEBK1mdmN</td>\n",
       "      <td>2000-01-01</td>\n",
       "      <td>0.766</td>\n",
       "      <td>0.513</td>\n",
       "      <td>8</td>\n",
       "      <td>-6.355</td>\n",
       "      <td>0</td>\n",
       "      <td>0.188</td>\n",
       "      <td>0.0718</td>\n",
       "      <td>0.000000</td>\n",
       "      <td>0.4840</td>\n",
       "      <td>0.601</td>\n",
       "      <td>74.026</td>\n",
       "      <td>302413</td>\n",
       "      <td>4</td>\n",
       "      <td>2000</td>\n",
       "    </tr>\n",
       "    <tr>\n",
       "      <th>2</th>\n",
       "      <td>bay_area</td>\n",
       "      <td>Brother Ig</td>\n",
       "      <td>I'm 1 Too Remix (feat. Casper, Saylah, Joe the...</td>\n",
       "      <td>spotify:track:61tgIW6tACZxAdhKLHPqhf</td>\n",
       "      <td>2013-05-31</td>\n",
       "      <td>0.646</td>\n",
       "      <td>0.737</td>\n",
       "      <td>1</td>\n",
       "      <td>-5.070</td>\n",
       "      <td>1</td>\n",
       "      <td>0.219</td>\n",
       "      <td>0.1270</td>\n",
       "      <td>0.000000</td>\n",
       "      <td>0.5280</td>\n",
       "      <td>0.597</td>\n",
       "      <td>79.941</td>\n",
       "      <td>313519</td>\n",
       "      <td>4</td>\n",
       "      <td>2013</td>\n",
       "    </tr>\n",
       "    <tr>\n",
       "      <th>3</th>\n",
       "      <td>bay_area</td>\n",
       "      <td>Brother Ig</td>\n",
       "      <td>Worst Enemy</td>\n",
       "      <td>spotify:track:429vuLezT1UdSrZjYG5Ki3</td>\n",
       "      <td>2000-01-01</td>\n",
       "      <td>0.811</td>\n",
       "      <td>0.565</td>\n",
       "      <td>5</td>\n",
       "      <td>-8.662</td>\n",
       "      <td>0</td>\n",
       "      <td>0.255</td>\n",
       "      <td>0.1770</td>\n",
       "      <td>0.000000</td>\n",
       "      <td>0.1170</td>\n",
       "      <td>0.541</td>\n",
       "      <td>80.049</td>\n",
       "      <td>337000</td>\n",
       "      <td>4</td>\n",
       "      <td>2000</td>\n",
       "    </tr>\n",
       "    <tr>\n",
       "      <th>4</th>\n",
       "      <td>bay_area</td>\n",
       "      <td>Brother Ig</td>\n",
       "      <td>Keep Holding On</td>\n",
       "      <td>spotify:track:3UWwDTyn0RrMYoCnGThpJz</td>\n",
       "      <td>2000-01-01</td>\n",
       "      <td>0.840</td>\n",
       "      <td>0.532</td>\n",
       "      <td>10</td>\n",
       "      <td>-7.983</td>\n",
       "      <td>0</td>\n",
       "      <td>0.100</td>\n",
       "      <td>0.0677</td>\n",
       "      <td>0.000508</td>\n",
       "      <td>0.0914</td>\n",
       "      <td>0.817</td>\n",
       "      <td>90.026</td>\n",
       "      <td>276507</td>\n",
       "      <td>4</td>\n",
       "      <td>2000</td>\n",
       "    </tr>\n",
       "  </tbody>\n",
       "</table>\n",
       "</div>"
      ],
      "text/plain": [
       "       type        name                                         track_name  \\\n",
       "0  bay_area  Brother Ig                                    Momma Don't Cry   \n",
       "1  bay_area  Brother Ig                                        In the Rain   \n",
       "2  bay_area  Brother Ig  I'm 1 Too Remix (feat. Casper, Saylah, Joe the...   \n",
       "3  bay_area  Brother Ig                                        Worst Enemy   \n",
       "4  bay_area  Brother Ig                                    Keep Holding On   \n",
       "\n",
       "                                    uri release_date  danceability  energy  \\\n",
       "0  spotify:track:6twPZrq5K0SzZ58BPq3Xq1   2006-01-01         0.597   0.667   \n",
       "1  spotify:track:4XNmJhkDLlIicfEBK1mdmN   2000-01-01         0.766   0.513   \n",
       "2  spotify:track:61tgIW6tACZxAdhKLHPqhf   2013-05-31         0.646   0.737   \n",
       "3  spotify:track:429vuLezT1UdSrZjYG5Ki3   2000-01-01         0.811   0.565   \n",
       "4  spotify:track:3UWwDTyn0RrMYoCnGThpJz   2000-01-01         0.840   0.532   \n",
       "\n",
       "   key  loudness  mode  speechiness  acousticness  instrumentalness  liveness  \\\n",
       "0    9    -6.367     0        0.139        0.0556          0.000000    0.0901   \n",
       "1    8    -6.355     0        0.188        0.0718          0.000000    0.4840   \n",
       "2    1    -5.070     1        0.219        0.1270          0.000000    0.5280   \n",
       "3    5    -8.662     0        0.255        0.1770          0.000000    0.1170   \n",
       "4   10    -7.983     0        0.100        0.0677          0.000508    0.0914   \n",
       "\n",
       "   valence   tempo  duration_ms  time_signature  year  \n",
       "0    0.330  69.914       320360               4  2006  \n",
       "1    0.601  74.026       302413               4  2000  \n",
       "2    0.597  79.941       313519               4  2013  \n",
       "3    0.541  80.049       337000               4  2000  \n",
       "4    0.817  90.026       276507               4  2000  "
      ]
     },
     "execution_count": 35,
     "metadata": {},
     "output_type": "execute_result"
    }
   ],
   "source": [
    "print(df.shape)\n",
    "df.head()"
   ]
  },
  {
   "cell_type": "code",
   "execution_count": 142,
   "metadata": {},
   "outputs": [],
   "source": [
    "df.to_csv('../data/table.csv')"
   ]
  },
  {
   "cell_type": "code",
   "execution_count": 141,
   "metadata": {},
   "outputs": [
    {
     "data": {
      "text/html": [
       "<div>\n",
       "<style scoped>\n",
       "    .dataframe tbody tr th:only-of-type {\n",
       "        vertical-align: middle;\n",
       "    }\n",
       "\n",
       "    .dataframe tbody tr th {\n",
       "        vertical-align: top;\n",
       "    }\n",
       "\n",
       "    .dataframe thead th {\n",
       "        text-align: right;\n",
       "    }\n",
       "</style>\n",
       "<table border=\"1\" class=\"dataframe\">\n",
       "  <thead>\n",
       "    <tr style=\"text-align: right;\">\n",
       "      <th></th>\n",
       "      <th>count</th>\n",
       "      <th>mean</th>\n",
       "      <th>std</th>\n",
       "      <th>min</th>\n",
       "      <th>25%</th>\n",
       "      <th>50%</th>\n",
       "      <th>75%</th>\n",
       "      <th>max</th>\n",
       "    </tr>\n",
       "    <tr>\n",
       "      <th>type</th>\n",
       "      <th></th>\n",
       "      <th></th>\n",
       "      <th></th>\n",
       "      <th></th>\n",
       "      <th></th>\n",
       "      <th></th>\n",
       "      <th></th>\n",
       "      <th></th>\n",
       "    </tr>\n",
       "  </thead>\n",
       "  <tbody>\n",
       "    <tr>\n",
       "      <th>bay_area</th>\n",
       "      <td>500.0</td>\n",
       "      <td>0.235104</td>\n",
       "      <td>0.113507</td>\n",
       "      <td>0.0251</td>\n",
       "      <td>0.1520</td>\n",
       "      <td>0.2415</td>\n",
       "      <td>0.30625</td>\n",
       "      <td>0.841</td>\n",
       "    </tr>\n",
       "    <tr>\n",
       "      <th>chinese</th>\n",
       "      <td>481.0</td>\n",
       "      <td>0.144709</td>\n",
       "      <td>0.105136</td>\n",
       "      <td>0.0253</td>\n",
       "      <td>0.0569</td>\n",
       "      <td>0.1120</td>\n",
       "      <td>0.21800</td>\n",
       "      <td>0.557</td>\n",
       "    </tr>\n",
       "  </tbody>\n",
       "</table>\n",
       "</div>"
      ],
      "text/plain": [
       "          count      mean       std     min     25%     50%      75%    max\n",
       "type                                                                       \n",
       "bay_area  500.0  0.235104  0.113507  0.0251  0.1520  0.2415  0.30625  0.841\n",
       "chinese   481.0  0.144709  0.105136  0.0253  0.0569  0.1120  0.21800  0.557"
      ]
     },
     "execution_count": 141,
     "metadata": {},
     "output_type": "execute_result"
    }
   ],
   "source": [
    "df.groupby('type')['speechiness'].describe()"
   ]
  },
  {
   "cell_type": "code",
   "execution_count": null,
   "metadata": {},
   "outputs": [],
   "source": []
  }
 ],
 "metadata": {
  "kernelspec": {
   "display_name": "Python 3",
   "language": "python",
   "name": "python3"
  },
  "language_info": {
   "codemirror_mode": {
    "name": "ipython",
    "version": 3
   },
   "file_extension": ".py",
   "mimetype": "text/x-python",
   "name": "python",
   "nbconvert_exporter": "python",
   "pygments_lexer": "ipython3",
   "version": "3.7.3"
  }
 },
 "nbformat": 4,
 "nbformat_minor": 2
}
